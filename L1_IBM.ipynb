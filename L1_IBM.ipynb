{
 "cells": [
  {
   "cell_type": "markdown",
   "metadata": {},
   "source": [
    "*  This program computes mean, variance, etc for IBM, an illustration of using Python\n"
   ]
  },
  {
   "cell_type": "code",
   "execution_count": 1,
   "metadata": {},
   "outputs": [
    {
     "name": "stdout",
     "output_type": "stream",
     "text": [
      "      ID      Date      P    Return\n",
      "0  12490  19340131  147.0  0.029772\n",
      "1  12490  19340228  144.0 -0.020408\n",
      "2  12490  19340331  133.0 -0.065972\n",
      "3  12490  19340430  143.0  0.075188\n",
      "4  12490  19340531  133.5 -0.066434\n",
      "        ID      Date       P    Return\n",
      "931  12490  20110831  171.91 -0.050536\n",
      "932  12490  20110930  174.87  0.017218\n",
      "933  12490  20111031  184.63  0.055813\n",
      "934  12490  20111130  188.00  0.022315\n",
      "935  12490  20111230  183.88 -0.021915\n",
      "0    0.029772\n",
      "1   -0.020408\n",
      "Name: Return, dtype: float64\n"
     ]
    }
   ],
   "source": [
    "import pandas as pd                     # To load data, we use the package pandas\n",
    "                                          # it is known as importing Modules, the packages we need\n",
    "import numpy as np                      # To do mathematical operations, we use the package numpy\n",
    "import matplotlib.pyplot as plt         # To plot the returns data, we use the package matplotlib\n",
    "%matplotlib inline\n",
    "\n",
    "# Load the monthly return of IBM, from 01/1934 to 12/2011\n",
    "\n",
    "df = pd.read_excel('IBM.xlsx')          # the data is in xlsx format\n",
    "                                        #        saved as Excel workbook \n",
    "                                        # If you have a problem, see below\n",
    "\n",
    "# note:   If the version of pandas has problems with xlsx, you can transform the data into cvs, see L1_IBM_CVS\n",
    "#  alternatively,  you can file, we read it by using df = pd.read_excel('IBM.xlsx', engine='openpyxl')\n",
    "#     see https://stackoverflow.com/a/65266497/752784 for more discuaaions\n",
    "        \n",
    "print (df.head())                         # check the first 5 rows; note: Python index starts from 0\n",
    "print (df.tail())                         # check the last 5 rows; note: Python index starts from 0\n",
    "print (df.loc[0:1,\"Return\"])            # print the first 2 rows of Return column only. "
   ]
  },
  {
   "cell_type": "code",
   "execution_count": 2,
   "metadata": {},
   "outputs": [
    {
     "name": "stdout",
     "output_type": "stream",
     "text": [
      "IBM mean return:   0.012862142094017096\n",
      "\n",
      "IBM mean return, 2nd method:   0.012862142094017096\n",
      "\n"
     ]
    }
   ],
   "source": [
    "# To calculate the mean, we can use the function np.mean\n",
    "\n",
    "mu = np.mean(df.loc[:,\"Return\"])                  # .loc takes the column out as an array\n",
    "print('IBM mean return:   {}\\n' .format(mu))\n",
    "\n",
    "# an alternative way: simpler, pandas' attribute\n",
    "\n",
    "mu2 = df['Return'].mean() \n",
    "print('IBM mean return, 2nd method:   {}\\n' .format(mu2))"
   ]
  },
  {
   "cell_type": "code",
   "execution_count": 6,
   "metadata": {},
   "outputs": [
    {
     "name": "stdout",
     "output_type": "stream",
     "text": [
      "1\n",
      "3\n",
      "6\n",
      "\n",
      " \n",
      " Results with loop on 1+2+3\n",
      "1\n",
      "3\n",
      "6\n"
     ]
    }
   ],
   "source": [
    "#   Understand Do-loops (for ... in Python)\n",
    "#\n",
    "# First, let us learn how to compute \n",
    "#          1+2+3\n",
    "#                     (simple example, important logic)\n",
    "#                      (usually one tries/tests via Spyder)\n",
    "\n",
    "sum1 = 0\n",
    "sum1 = sum1 + 1        # result of adding 1 to sum1\n",
    "print(sum1)     \n",
    "\n",
    "sum1 =  sum1 + 2     # result of adding 2 to sum1\n",
    "print(sum1)       \n",
    "\n",
    "sum1 =  sum1 + 3     # result of adding 3 to sum1\n",
    "print(sum1)  \n",
    "\n",
    "\n",
    "# use a do loop adding from i=0 to 3\n",
    "\n",
    "print('\\n \\n Results with loop on 1+2+3')\n",
    "\n",
    "sum2 = 0\n",
    "for i in range(3):          # it runs from i=0, to 2; Python covention  \n",
    "    sum2 = sum2 + (i+1)     # still 3 terms, x_1, x_2, x_3; just stored as y_0, y_1,y_2 in Python)    \n",
    "    print(sum2)             \n",
    "     \n",
    "                            #  EXTENSIONS\n",
    "                            #  to sum from i=5 to 9,\n",
    "                            #   use:  for i in range(5,10):\n",
    "                            #\n",
    "                            # increment here is 1 so far. \n",
    "                            #  If increment is 2, use: range(2,10, 2), it will add 2+4+6. "
   ]
  },
  {
   "cell_type": "code",
   "execution_count": 7,
   "metadata": {},
   "outputs": [
    {
     "name": "stdout",
     "output_type": "stream",
     "text": [
      "Sample size: \n",
      " 936\n",
      "The mean computed by using the loop: \n",
      " 0.012862142094017096\n"
     ]
    }
   ],
   "source": [
    "# We can also use a loop to compute the mean\n",
    "\n",
    "T = len(df)             # Get the length (the headers of the Excel doesn't count)\n",
    "                           # which is the sample size or # of obvs\n",
    "Re = df.loc[:,\"Return\"]\n",
    "\n",
    "mu1 = 0         # The initial value of the mean\n",
    "\n",
    "for i in range(T):                  # it runs from i=0 to (T-1), as Python stores data from 0\n",
    "    mu1 = mu1 + Re[i]                # to sum fron i=5 to 10, use:  for i in range(5,10): \n",
    "    \n",
    "mu1 = mu1 / T                        # it actually executes i=5, 6, 7, 8, 9, a total of 5 times\n",
    "\n",
    "print('Sample size: \\n',  T )\n",
    "print('The mean computed by using the loop: \\n',    mu1)"
   ]
  },
  {
   "cell_type": "code",
   "execution_count": 8,
   "metadata": {},
   "outputs": [
    {
     "name": "stdout",
     "output_type": "stream",
     "text": [
      "(Monthly) Mean,   Std  \n",
      "\n",
      "        0.0129     0.0652\n",
      " \n",
      "Compute std, dividing by T (default)  \n",
      " 0.06517527111817054\n",
      "\n",
      " Compute std by dividing T-1 using np function  \n",
      " 0.06521011489030308\n",
      "\n",
      " Compute std by dividing T-1 using attibute  \n",
      " 0.06521011489030308\n"
     ]
    }
   ],
   "source": [
    "sig = np.var(Re)         # The variance, i.e., the square of the standard deviation\n",
    "\n",
    "std = np.sqrt(sig)       # The standard deviation\n",
    "\n",
    "std1 = np.std(Re)              # The standard deviation\n",
    "std2 = np.std(Re,ddof=1)       # The std with T-1 instead of T \n",
    "\n",
    "std3 = np.std(Re.var())       #  using attribute, it uses T-1   \n",
    "\n",
    "print('(Monthly) Mean,   Std  \\n')\n",
    "print('        {0:.4f}     {1:.4f}\\n '.format(mu, std))    \n",
    "                  # {0:.4f} means printing the first element up to 4 decimal point\n",
    "    \n",
    "print('Compute std, dividing by T (default)  \\n', std1)\n",
    " \n",
    "\n",
    "print('\\n Compute std by dividing T-1 using np function  \\n',std2)\n",
    " \n",
    "\n",
    "print('\\n Compute std by dividing T-1 using attibute  \\n',std2)\n",
    "\n"
   ]
  },
  {
   "cell_type": "code",
   "execution_count": 9,
   "metadata": {},
   "outputs": [
    {
     "name": "stdout",
     "output_type": "stream",
     "text": [
      "Q1: How many returns greater than 10%? \n",
      " 73\n",
      "Fraction of the time \n",
      " 0.07799145299145299\n"
     ]
    }
   ],
   "source": [
    "#  Q1:  How many returns greater than 10% ?\n",
    "\n",
    "LB = .10              # the lower bound\n",
    "\n",
    "A1 = 0              # initialize the counting \n",
    "\n",
    "for i in range(T):             \n",
    "    if  Re[i] > LB:                 \n",
    "         A1 = A1 + 1\n",
    "            \n",
    "print('Q1: How many returns greater than 10%? \\n', A1)\n",
    "print('Fraction of the time \\n', A1/T)"
   ]
  },
  {
   "cell_type": "code",
   "execution_count": 10,
   "metadata": {},
   "outputs": [
    {
     "name": "stdout",
     "output_type": "stream",
     "text": [
      "Q2: How many returns greater than 2*std+mu and its fraction ?\n",
      "\n",
      "          26       0.027777777777777776 \n",
      "\n"
     ]
    }
   ],
   "source": [
    "# Q2:   How many returns greater than 2*std+mu?\n",
    "\n",
    "LB2 = mu + 2 * std\n",
    "\n",
    "A2 = 0\n",
    "\n",
    "for i in range(T):\n",
    "    if Re[i] > LB2:\n",
    "        A2 = A2 + 1\n",
    "\n",
    "print('Q2: How many returns greater than 2*std+mu and its fraction ?\\n')\n",
    "print('          {}       {} \\n'.format(A2, A2/T))  "
   ]
  },
  {
   "cell_type": "code",
   "execution_count": 11,
   "metadata": {},
   "outputs": [
    {
     "name": "stdout",
     "output_type": "stream",
     "text": [
      "Q3: What is the accumulative returns / value of investing $1?\n",
      "\n",
      "          22557.17\n",
      "\n"
     ]
    }
   ],
   "source": [
    "# Q3: What is the accumulative returns / value of investing $1?\n",
    "\n",
    "Value = 1\n",
    "\n",
    "for i in range(T):\n",
    "    Value = Value * (1 + Re[i])\n",
    "\n",
    "print('Q3: What is the accumulative returns / value of investing $1?\\n')\n",
    "print('          {0:.2f}\\n'.format(Value))   "
   ]
  },
  {
   "cell_type": "code",
   "execution_count": 12,
   "metadata": {},
   "outputs": [
    {
     "name": "stdout",
     "output_type": "stream",
     "text": [
      "Q4: What is the accumulative return if we miss 5% of the best months? \n",
      "\n",
      "          22.54\n",
      "\n"
     ]
    }
   ],
   "source": [
    "# Q4: What is the accumulative return (Value of investing $1) if we miss 5% of the best returns ?\n",
    "# Assuming earning the average riskfree rate of 4%/12 in those missing months                        \n",
    "                        \n",
    "ReturnS = sorted(Re)    # Sort the returns in increasing order\n",
    "\n",
    "T1 = .05 * T             #  5% of the sample; Ex:  T1=0.05*936= 46.8\n",
    "T1 = round(T1)           # Round it to an integer;  Ex: 47 = round(46.8)  \n",
    "\n",
    "Value1 = 1\n",
    "\n",
    "for i in range(T-T1):                     # It compounds all the realized 889=T-T1 returns, from month 1 to month 889  \n",
    "    Value1 = Value1 * (1 + ReturnS[i])     # In Python, i is from 0 to 888, still 889 terms/months\n",
    "                                           # Just returns are stored as (0, 2, ..., 888)\n",
    "                                           #                 instead of (1, 2, ..., 889)\n",
    "            \n",
    "for i in range(T - T1, T):              # i from 889 to T-1=935, covering Month 890 to the last month return\n",
    "    Value1 = Value1 * (1 + 0.04/12)       # again due to data are stored as  (889,890, ..., 935)\n",
    "\n",
    "print('Q4: What is the accumulative return if we miss 5% of the best months? \\n')\n",
    "print('          {0:.2f}\\n'.format(Value1))"
   ]
  },
  {
   "cell_type": "code",
   "execution_count": 13,
   "metadata": {},
   "outputs": [
    {
     "name": "stdout",
     "output_type": "stream",
     "text": [
      "Q5: What is the accumulative returns / value of investing $1 if we avoid 5% of the worse return month?\n",
      "\n",
      "          15788021.02\n",
      "\n"
     ]
    }
   ],
   "source": [
    "# Q5: What is the accumulative return if we avoid 5% of the worse months ?\n",
    "# Assuming earning the average riskfree rate of 4%/12 in those missing months                        \n",
    "                        \n",
    "Value2 = 1\n",
    "\n",
    "for i in range(T1):\n",
    "    Value2 = Value2 * (1 + 0.04/12)\n",
    "\n",
    "for i in range(T1, T):\n",
    "    Value2 = Value2 * (1 + ReturnS[i])\n",
    "\n",
    "print('Q5: What is the accumulative returns / value of investing $1 if we avoid 5% of the worse return month?\\n')\n",
    "print('          {0:.2f}\\n'.format(Value2))"
   ]
  },
  {
   "cell_type": "code",
   "execution_count": 14,
   "metadata": {},
   "outputs": [
    {
     "name": "stdout",
     "output_type": "stream",
     "text": [
      "Q6: What is the percentage of up days?\n",
      "\n",
      "          56.62%\n",
      "\n",
      "The percentage of up days is  56.6239316239316253%.\n"
     ]
    }
   ],
   "source": [
    "# Q6: What is the percentage of up days?\n",
    "\n",
    "Up = 0\n",
    "for i in range(T):\n",
    "    if  Re[i] > 0: \n",
    "        Up = Up + 1\n",
    "\n",
    "Udays = Up/T * 100\n",
    "\n",
    "print('Q6: What is the percentage of up days?\\n')\n",
    "print('          {0:.2f}%\\n'.format(Udays))\n",
    "\n",
    "# another way of formating output:  using f-string \n",
    "\n",
    "print(f\"The percentage of up days is  {Udays:4.16f}%.\")  \n",
    "                # print as 4 dignits before ., and 16 decimal points\n",
    "                # 4 can be dropped if do not know how big the number is "
   ]
  },
  {
   "cell_type": "code",
   "execution_count": 15,
   "metadata": {},
   "outputs": [
    {
     "data": {
      "image/png": "[encoded data removed]",
      "text/plain": [
       "<Figure size 432x288 with 1 Axes>"
      ]
     },
     "metadata": {
      "needs_background": "light"
     },
     "output_type": "display_data"
    }
   ],
   "source": [
    "# Plot the returns of IBM\n",
    "\n",
    "p = plt.plot(Re)"
   ]
  },
  {
   "cell_type": "code",
   "execution_count": 16,
   "metadata": {},
   "outputs": [
    {
     "data": {
      "image/png": "[encoded data removed]",
      "text/plain": [
       "<Figure size 432x288 with 1 Axes>"
      ]
     },
     "metadata": {
      "needs_background": "light"
     },
     "output_type": "display_data"
    }
   ],
   "source": [
    "#\n",
    "df['Return'].plot()                       # another way of ploting the data \n",
    "plt.show()                               # just make sure the plot shows on the screen "
   ]
  },
  {
   "cell_type": "code",
   "execution_count": 18,
   "metadata": {},
   "outputs": [
    {
     "data": {
      "image/png": "[encoded data removed]",
      "text/plain": [
       "<Figure size 432x288 with 1 Axes>"
      ]
     },
     "metadata": {
      "needs_background": "light"
     },
     "output_type": "display_data"
    }
   ],
   "source": [
    "# Plot the accumulative returns of IBM\n",
    "#  We need to store the value over time\n",
    "\n",
    "ValueC = [0]*T        # set up the storage, a vector of T zeros\n",
    "\n",
    "ValueC[0] = 1 + Re[0]     # The first month accu return\n",
    "\n",
    "for i in range(T-1):\n",
    "    ValueC[i+1] = ValueC[i] * (1 + Re[i+1])\n",
    "\n",
    "s = pd.Series(ValueC)\n",
    "p2 = plt.plot(s.index, s.values)"
   ]
  },
  {
   "cell_type": "code",
   "execution_count": null,
   "metadata": {},
   "outputs": [],
   "source": []
  },
  {
   "cell_type": "code",
   "execution_count": null,
   "metadata": {},
   "outputs": [],
   "source": []
  },
  {
   "cell_type": "code",
   "execution_count": null,
   "metadata": {},
   "outputs": [],
   "source": []
  }
 ],
 "metadata": {
  "kernelspec": {
   "display_name": "Python 3",
   "language": "python",
   "name": "python3"
  },
  "language_info": {
   "codemirror_mode": {
    "name": "ipython",
    "version": 3
   },
   "file_extension": ".py",
   "mimetype": "text/x-python",
   "name": "python",
   "nbconvert_exporter": "python",
   "pygments_lexer": "ipython3",
   "version": "3.7.6"
  }
 },
 "nbformat": 4,
 "nbformat_minor": 2
}
